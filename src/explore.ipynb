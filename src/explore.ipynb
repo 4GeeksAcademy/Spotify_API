{
    "cells": [
        {
            "cell_type": "markdown",
            "metadata": {},
            "source": [
                "# Explore here"
            ]
        },
        {
            "cell_type": "code",
            "execution_count": 30,
            "metadata": {},
            "outputs": [],
            "source": [
                "import os\n",
                "from dotenv import load_dotenv\n",
                "load_dotenv()\n",
                "\n",
                "client_id = os.environ.get('CLIENT_ID')\n",
                "client_secret = os.environ.get('CLIENT_SECRET')"
            ]
        },
        {
            "cell_type": "code",
            "execution_count": 31,
            "metadata": {},
            "outputs": [
                {
                    "name": "stdout",
                    "output_type": "stream",
                    "text": [
                        "Client ID and Client Secret loaded successfully.\n",
                        "Spotify client created successfully.\n"
                    ]
                }
            ],
            "source": [
                "import os\n",
                "from dotenv import load_dotenv\n",
                "\n",
                "load_dotenv()\n",
                "\n",
                "client_id = os.getenv('CLIENT_ID')\n",
                "client_secret = os.getenv('CLIENT_SECRET')\n",
                "\n",
                "if not client_id or not client_secret:\n",
                "    print(\"Client ID or Client Secret not found. Please check your .env file and environment variable names.\")\n",
                "else:\n",
                "    print(\"Client ID and Client Secret loaded successfully.\")\n",
                "\n",
                "import spotipy\n",
                "from spotipy.oauth2 import SpotifyClientCredentials\n",
                "\n",
                "# Crear un cliente de spotify con las credenciales de la API generada\n",
                "try:\n",
                "    sp = spotipy.Spotify(auth_manager=SpotifyClientCredentials(client_id=client_id, client_secret=client_secret))\n",
                "    print(\"Spotify client created successfully.\")\n",
                "except Exception as e:\n",
                "    print(f\"An error occurred: {e}\")\n"
            ]
        },
        {
            "cell_type": "markdown",
            "metadata": {},
            "source": [
                "Top 10 canciones de artistas"
            ]
        },
        {
            "cell_type": "code",
            "execution_count": 37,
            "metadata": {},
            "outputs": [
                {
                    "name": "stdout",
                    "output_type": "stream",
                    "text": [
                        "Track 1:\n",
                        "  Name: Another Brick in the Wall, Pt. 2\n",
                        "  Popularity: 74\n",
                        "  Duration (minutes): 3.98\n",
                        "\n",
                        "Track 2:\n",
                        "  Name: Wish You Were Here\n",
                        "  Popularity: 74\n",
                        "  Duration (minutes): 5.58\n",
                        "\n",
                        "Track 3:\n",
                        "  Name: Comfortably Numb\n",
                        "  Popularity: 72\n",
                        "  Duration (minutes): 6.37\n",
                        "\n",
                        "Track 4:\n",
                        "  Name: Breathe (In the Air)\n",
                        "  Popularity: 71\n",
                        "  Duration (minutes): 2.83\n",
                        "\n",
                        "Track 5:\n",
                        "  Name: Money\n",
                        "  Popularity: 70\n",
                        "  Duration (minutes): 6.38\n",
                        "\n",
                        "Track 6:\n",
                        "  Name: The Great Gig in the Sky\n",
                        "  Popularity: 69\n",
                        "  Duration (minutes): 4.73\n",
                        "\n",
                        "Track 7:\n",
                        "  Name: Time\n",
                        "  Popularity: 69\n",
                        "  Duration (minutes): 6.90\n",
                        "\n",
                        "Track 8:\n",
                        "  Name: Shine On You Crazy Diamond (Pts. 1-5)\n",
                        "  Popularity: 64\n",
                        "  Duration (minutes): 13.52\n",
                        "\n",
                        "Track 9:\n",
                        "  Name: Hey You\n",
                        "  Popularity: 65\n",
                        "  Duration (minutes): 4.64\n",
                        "\n",
                        "Track 10:\n",
                        "  Name: Have a Cigar\n",
                        "  Popularity: 64\n",
                        "  Duration (minutes): 5.13\n",
                        "\n"
                    ]
                }
            ],
            "source": [
                "# Artista Pink Floyd\n",
                "artist_id = \"0k17h0D3J5VfsdmQ1iZtE9\"\n",
                "\n",
                "# Top Tracks\n",
                "response = sp.artist_top_tracks(artist_id)\n",
                "if response:\n",
                "    tracks = response[\"tracks\"]\n",
                "    for i, track in enumerate(tracks, 1):\n",
                "        track_info = {k: (v/(1000*60))%60 if k == \"duration_ms\" else v for k, v in track.items() if k in [\"name\", \"popularity\", \"duration_ms\"]}\n",
                "        print(f\"Track {i}:\")\n",
                "        print(f\"  Name: {track_info['name']}\")\n",
                "        print(f\"  Popularity: {track_info['popularity']}\")\n",
                "        print(f\"  Duration (minutes): {track_info['duration_ms']:.2f}\")\n",
                "        print()\n",
                "else:\n",
                "    print(\"No tracks found for the given artist.\")"
            ]
        },
        {
            "cell_type": "code",
            "execution_count": 38,
            "metadata": {},
            "outputs": [
                {
                    "name": "stdout",
                    "output_type": "stream",
                    "text": [
                        "Track 1:\n",
                        "  Name: Here Comes The Sun - Remastered 2009\n",
                        "  Popularity: 84\n",
                        "  Duration (minutes): 3.10\n",
                        "\n",
                        "Track 2:\n",
                        "  Name: Twist And Shout - Remastered 2009\n",
                        "  Popularity: 78\n",
                        "  Duration (minutes): 2.59\n",
                        "\n",
                        "Track 3:\n",
                        "  Name: Yesterday - Remastered 2009\n",
                        "  Popularity: 77\n",
                        "  Duration (minutes): 2.09\n",
                        "\n",
                        "Track 4:\n",
                        "  Name: Let It Be - Remastered 2009\n",
                        "  Popularity: 77\n",
                        "  Duration (minutes): 4.05\n",
                        "\n",
                        "Track 5:\n",
                        "  Name: Come Together - Remastered 2009\n",
                        "  Popularity: 77\n",
                        "  Duration (minutes): 4.33\n",
                        "\n",
                        "Track 6:\n",
                        "  Name: In My Life - Remastered 2009\n",
                        "  Popularity: 76\n",
                        "  Duration (minutes): 2.44\n",
                        "\n",
                        "Track 7:\n",
                        "  Name: Blackbird - Remastered 2009\n",
                        "  Popularity: 76\n",
                        "  Duration (minutes): 2.31\n",
                        "\n",
                        "Track 8:\n",
                        "  Name: Hey Jude - 2015 Mix\n",
                        "  Popularity: 66\n",
                        "  Duration (minutes): 7.19\n",
                        "\n",
                        "Track 9:\n",
                        "  Name: I Want To Hold Your Hand - Remastered 2009\n",
                        "  Popularity: 72\n",
                        "  Duration (minutes): 2.45\n",
                        "\n",
                        "Track 10:\n",
                        "  Name: Something - Remastered 2009\n",
                        "  Popularity: 73\n",
                        "  Duration (minutes): 3.04\n",
                        "\n"
                    ]
                }
            ],
            "source": [
                "# Artista The Beatles\n",
                "artist_id = \"3WrFJ7ztbogyGnTHbHJFl2\"\n",
                "\n",
                "# Top Tracks\n",
                "response = sp.artist_top_tracks(artist_id)\n",
                "if response:\n",
                "    tracks = response[\"tracks\"]\n",
                "    for i, track in enumerate(tracks, 1):\n",
                "        track_info = {k: (v/(1000*60))%60 if k == \"duration_ms\" else v for k, v in track.items() if k in [\"name\", \"popularity\", \"duration_ms\"]}\n",
                "        print(f\"Track {i}:\")\n",
                "        print(f\"  Name: {track_info['name']}\")\n",
                "        print(f\"  Popularity: {track_info['popularity']}\")\n",
                "        print(f\"  Duration (minutes): {track_info['duration_ms']:.2f}\")\n",
                "        print()\n",
                "else:\n",
                "    print(\"No tracks found for the given artist.\")"
            ]
        },
        {
            "cell_type": "code",
            "execution_count": null,
            "metadata": {},
            "outputs": [],
            "source": []
        }
    ],
    "metadata": {
        "kernelspec": {
            "display_name": "Python 3.8.13 64-bit ('3.8.13')",
            "language": "python",
            "name": "python3"
        },
        "language_info": {
            "codemirror_mode": {
                "name": "ipython",
                "version": 3
            },
            "file_extension": ".py",
            "mimetype": "text/x-python",
            "name": "python",
            "nbconvert_exporter": "python",
            "pygments_lexer": "ipython3",
            "version": "3.11.4"
        },
        "orig_nbformat": 4,
        "vscode": {
            "interpreter": {
                "hash": "110cc1dee26208153f2972f08a2ad52b6a56238dc66d48e87fb757ef2996db56"
            }
        }
    },
    "nbformat": 4,
    "nbformat_minor": 2
}
